{
  "nbformat": 4,
  "nbformat_minor": 0,
  "metadata": {
    "colab": {
      "provenance": [],
      "authorship_tag": "ABX9TyP/f5wq4FArj0v3E/6wtqPG",
      "include_colab_link": true
    },
    "kernelspec": {
      "name": "python3",
      "display_name": "Python 3"
    },
    "language_info": {
      "name": "python"
    }
  },
  "cells": [
    {
      "cell_type": "markdown",
      "metadata": {
        "id": "view-in-github",
        "colab_type": "text"
      },
      "source": [
        "<a href=\"https://colab.research.google.com/github/EldarDadon/embeddings-project/blob/master/Eldar_Dadon.ipynb\" target=\"_parent\"><img src=\"https://colab.research.google.com/assets/colab-badge.svg\" alt=\"Open In Colab\"/></a>"
      ]
    },
    {
      "cell_type": "code",
      "source": [
        "!pip install PyMuPDF\n"
      ],
      "metadata": {
        "colab": {
          "base_uri": "https://localhost:8080/"
        },
        "collapsed": true,
        "id": "COfTmDlPy4vj",
        "outputId": "28b32dfd-59d1-4921-bb2a-34a1cfcae8dd"
      },
      "execution_count": null,
      "outputs": [
        {
          "output_type": "stream",
          "name": "stdout",
          "text": [
            "Collecting PyMuPDF\n",
            "  Downloading PyMuPDF-1.24.14-cp39-abi3-manylinux2014_x86_64.manylinux_2_17_x86_64.whl.metadata (3.4 kB)\n",
            "Downloading PyMuPDF-1.24.14-cp39-abi3-manylinux2014_x86_64.manylinux_2_17_x86_64.whl (19.8 MB)\n",
            "\u001b[2K   \u001b[90m━━━━━━━━━━━━━━━━━━━━━━━━━━━━━━━━━━━━━━━━\u001b[0m \u001b[32m19.8/19.8 MB\u001b[0m \u001b[31m47.5 MB/s\u001b[0m eta \u001b[36m0:00:00\u001b[0m\n",
            "\u001b[?25hInstalling collected packages: PyMuPDF\n",
            "Successfully installed PyMuPDF-1.24.14\n"
          ]
        }
      ]
    },
    {
      "cell_type": "code",
      "source": [
        "!pip install python-docx\n"
      ],
      "metadata": {
        "colab": {
          "base_uri": "https://localhost:8080/"
        },
        "collapsed": true,
        "id": "pz35O1wrzG6g",
        "outputId": "a9588101-faec-43b7-cf9a-8a88fdc51fc4"
      },
      "execution_count": null,
      "outputs": [
        {
          "output_type": "stream",
          "name": "stdout",
          "text": [
            "Collecting python-docx\n",
            "  Downloading python_docx-1.1.2-py3-none-any.whl.metadata (2.0 kB)\n",
            "Requirement already satisfied: lxml>=3.1.0 in /usr/local/lib/python3.10/dist-packages (from python-docx) (5.3.0)\n",
            "Requirement already satisfied: typing-extensions>=4.9.0 in /usr/local/lib/python3.10/dist-packages (from python-docx) (4.12.2)\n",
            "Downloading python_docx-1.1.2-py3-none-any.whl (244 kB)\n",
            "\u001b[?25l   \u001b[90m━━━━━━━━━━━━━━━━━━━━━━━━━━━━━━━━━━━━━━━━\u001b[0m \u001b[32m0.0/244.3 kB\u001b[0m \u001b[31m?\u001b[0m eta \u001b[36m-:--:--\u001b[0m\r\u001b[2K   \u001b[90m━━━━━━━━━━━━━━━━━━━━━━━━━━━━━━━━━━━━━━━━\u001b[0m \u001b[32m244.3/244.3 kB\u001b[0m \u001b[31m7.6 MB/s\u001b[0m eta \u001b[36m0:00:00\u001b[0m\n",
            "\u001b[?25hInstalling collected packages: python-docx\n",
            "Successfully installed python-docx-1.1.2\n"
          ]
        }
      ]
    },
    {
      "cell_type": "code",
      "source": [
        "!pip install faiss-cpu\n"
      ],
      "metadata": {
        "colab": {
          "base_uri": "https://localhost:8080/"
        },
        "collapsed": true,
        "id": "o5jlCV91zL1J",
        "outputId": "efcc95df-6f92-460a-82df-bf2f34800df4"
      },
      "execution_count": null,
      "outputs": [
        {
          "output_type": "stream",
          "name": "stdout",
          "text": [
            "Collecting faiss-cpu\n",
            "  Downloading faiss_cpu-1.9.0.post1-cp310-cp310-manylinux_2_17_x86_64.manylinux2014_x86_64.whl.metadata (4.4 kB)\n",
            "Requirement already satisfied: numpy<3.0,>=1.25.0 in /usr/local/lib/python3.10/dist-packages (from faiss-cpu) (1.26.4)\n",
            "Requirement already satisfied: packaging in /usr/local/lib/python3.10/dist-packages (from faiss-cpu) (24.2)\n",
            "Downloading faiss_cpu-1.9.0.post1-cp310-cp310-manylinux_2_17_x86_64.manylinux2014_x86_64.whl (27.5 MB)\n",
            "\u001b[2K   \u001b[90m━━━━━━━━━━━━━━━━━━━━━━━━━━━━━━━━━━━━━━━━\u001b[0m \u001b[32m27.5/27.5 MB\u001b[0m \u001b[31m52.6 MB/s\u001b[0m eta \u001b[36m0:00:00\u001b[0m\n",
            "\u001b[?25hInstalling collected packages: faiss-cpu\n",
            "Successfully installed faiss-cpu-1.9.0.post1\n"
          ]
        }
      ]
    },
    {
      "cell_type": "code",
      "source": [
        "import fitz\n",
        "import docx\n",
        "import re\n",
        "from nltk.tokenize import sent_tokenize\n",
        "from sentence_transformers import SentenceTransformer\n",
        "import faiss\n",
        "import numpy as np\n",
        "\n",
        "def read_file(file_path):\n",
        "    if file_path.endswith('.pdf'):\n",
        "        return read_pdf(file_path)\n",
        "    elif file_path.endswith('.docx'):\n",
        "        return read_docx(file_path)\n",
        "    else:\n",
        "        raise ValueError(\"Unsupported file format. Please use PDF or DOCX.\")\n",
        "\n",
        "def read_pdf(file_path):\n",
        "    text = \"\"\n",
        "    with fitz.open(file_path) as pdf:\n",
        "        for page in pdf:\n",
        "            text += page.get_text()\n",
        "    return text\n",
        "\n",
        "def read_docx(file_path):\n",
        "    doc = docx.Document(file_path)\n",
        "    text = \"\\n\".join([para.text for para in doc.paragraphs])\n",
        "    return text\n",
        "\n",
        "def split_text_fixed_size(text, chunk_size=200, overlap=50):\n",
        "    chunks = []\n",
        "    start = 0\n",
        "    while start < len(text):\n",
        "        end = start + chunk_size\n",
        "        chunks.append(text[start:end])\n",
        "        start += chunk_size - overlap\n",
        "    return chunks\n",
        "\n",
        "def split_text_sentences(text):\n",
        "    return sent_tokenize(text)\n",
        "\n",
        "def split_text_paragraphs(text):\n",
        "    paragraphs = re.split(r'\\n\\s*\\n', text)\n",
        "    return [p.strip() for p in paragraphs if p.strip()]\n",
        "\n",
        "def create_embeddings(chunks, model_name=\"all-MiniLM-L6-v2\"):\n",
        "    model = SentenceTransformer(model_name)\n",
        "    embeddings = model.encode(chunks)\n",
        "    return embeddings\n",
        "\n",
        "def save_embeddings(embeddings, ids, index_path=\"vector_index.faiss\"):\n",
        "    embedding_array = np.array(embeddings, dtype='float32')\n",
        "    index = faiss.IndexFlatL2(embedding_array.shape[1])\n",
        "    index.add(embedding_array)\n",
        "    faiss.write_index(index, index_path)\n",
        "    print(f\"Saved index to {index_path}\")\n",
        "\n",
        "def load_embeddings(index_path=\"vector_index.faiss\"):\n",
        "    return faiss.read_index(index_path)\n",
        "\n",
        "def search_similar(embedding, index, top_k=5):\n",
        "    distances, indices = index.search(np.array([embedding], dtype='float32'), top_k)\n",
        "    return distances, indices\n",
        "\n",
        "def process_file(file_path, split_method=\"fixed\", chunk_size=200, overlap=50, model_name=\"all-MiniLM-L6-v2\", index_path=\"vector_index.faiss\"):\n",
        "    text = read_file(file_path)\n",
        "\n",
        "    if split_method == \"fixed\":\n",
        "        chunks = split_text_fixed_size(text, chunk_size, overlap)\n",
        "    elif split_method == \"sentences\":\n",
        "        chunks = split_text_sentences(text)\n",
        "    elif split_method == \"paragraphs\":\n",
        "        chunks = split_text_paragraphs(text)\n",
        "    else:\n",
        "        raise ValueError(\"Invalid split method. Choose 'fixed', 'sentences', or 'paragraphs'.\")\n",
        "\n",
        "    embeddings = create_embeddings(chunks, model_name)\n",
        "    ids = list(range(len(embeddings)))\n",
        "    save_embeddings(embeddings, ids, index_path)\n",
        "    print(\"Processing complete.\")\n",
        "\n",
        "# יש להזין כאן את שם הקובץ\n",
        "file_path = file_path = \"/content/CVELDARDADON.pdf\"\n",
        "  # עדכן כאן את נתיב הקובץ שלך\n",
        "process_file(file_path, split_method=\"fixed\", chunk_size=200, overlap=50)"
      ],
      "metadata": {
        "colab": {
          "base_uri": "https://localhost:8080/"
        },
        "id": "Ub2C_s_2zHMA",
        "outputId": "781b74a2-f833-43a8-8b03-5c6a20d069b6"
      },
      "execution_count": null,
      "outputs": [
        {
          "output_type": "stream",
          "name": "stdout",
          "text": [
            "Saved index to vector_index.faiss\n",
            "Processing complete.\n"
          ]
        }
      ]
    }
  ]
}